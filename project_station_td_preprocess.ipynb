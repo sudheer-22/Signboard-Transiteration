{
  "nbformat": 4,
  "nbformat_minor": 0,
  "metadata": {
    "colab": {
      "name": "project_station_td_preprocess.ipynb",
      "provenance": [],
      "collapsed_sections": []
    },
    "kernelspec": {
      "name": "python3",
      "display_name": "Python 3"
    },
    "accelerator": "GPU"
  },
  "cells": [
    {
      "cell_type": "markdown",
      "metadata": {
        "id": "1D5p3IcXbD0T",
        "colab_type": "text"
      },
      "source": [
        "This notebook converts the unicode labels to tokens, pads the converted labels with `<start>`, `<stop>` and the `<pad>` tokens."
      ]
    },
    {
      "cell_type": "code",
      "metadata": {
        "id": "KEQLEgDIZpmm",
        "colab_type": "code",
        "outputId": "a7ba573c-4315-4f32-a2b6-24c25d8779e0",
        "colab": {
          "base_uri": "https://localhost:8080/",
          "height": 122
        }
      },
      "source": [
        "from google.colab import drive\n",
        "drive.mount('/content/drive', force_remount=True)"
      ],
      "execution_count": 0,
      "outputs": [
        {
          "output_type": "stream",
          "text": [
            "Go to this URL in a browser: https://accounts.google.com/o/oauth2/auth?client_id=947318989803-6bn6qk8qdgf4n4g3pfee6491hc0brc4i.apps.googleusercontent.com&redirect_uri=urn%3Aietf%3Awg%3Aoauth%3A2.0%3Aoob&scope=email%20https%3A%2F%2Fwww.googleapis.com%2Fauth%2Fdocs.test%20https%3A%2F%2Fwww.googleapis.com%2Fauth%2Fdrive%20https%3A%2F%2Fwww.googleapis.com%2Fauth%2Fdrive.photos.readonly%20https%3A%2F%2Fwww.googleapis.com%2Fauth%2Fpeopleapi.readonly&response_type=code\n",
            "\n",
            "Enter your authorization code:\n",
            "··········\n",
            "Mounted at /content/drive\n"
          ],
          "name": "stdout"
        }
      ]
    },
    {
      "cell_type": "code",
      "metadata": {
        "id": "aqUTtsgBKprN",
        "colab_type": "code",
        "colab": {}
      },
      "source": [
        "import unicodedata\n",
        "import tarfile\n",
        "import pandas as pd\n",
        "from tqdm import tqdm"
      ],
      "execution_count": 0,
      "outputs": []
    },
    {
      "cell_type": "code",
      "metadata": {
        "id": "SblPRD-4ZqQn",
        "colab_type": "code",
        "colab": {}
      },
      "source": [
        "# tarfile_loc = '/content/drive/My Drive/Project STation/TD/recognition_real_dataset/cropped_data.tar'\n",
        "tarfile_loc = '/content/drive/My Drive/Project STation/TD/synthetic_cropped.tar.gz'\n",
        "\n",
        "with tarfile.open(tarfile_loc) as tarf:\n",
        "    tarf.extractall()"
      ],
      "execution_count": 0,
      "outputs": []
    },
    {
      "cell_type": "code",
      "metadata": {
        "id": "ZGd-3KKKdPHz",
        "colab_type": "code",
        "colab": {}
      },
      "source": [
        "# These ranges are in hexadecimal format\n",
        "def _unicode_to_idx_map(lower_range, upper_range, start_index):\n",
        "    l_range = int(lower_range, 16) \n",
        "    u_range = int(upper_range, 16)\n",
        "    name2idx = dict()\n",
        "    idx = start_index\n",
        "    for char_code in range(l_range, u_range + 1):\n",
        "        code_point = chr(char_code)\n",
        "        char_name = unicodedata.name(code_point)\n",
        "        name2idx[char_name] = idx\n",
        "        idx = idx + 1\n",
        "    return name2idx, idx"
      ],
      "execution_count": 0,
      "outputs": []
    },
    {
      "cell_type": "code",
      "metadata": {
        "id": "JQLE1NSwmh-0",
        "colab_type": "code",
        "colab": {}
      },
      "source": [
        "start_index = 3  ## Start from 3 as the first three inidices are reserved for <start> <stop> and <PAD> token\n",
        "name2idx, idx = _unicode_to_idx_map(\"0900\", \"094D\", start_index)\n",
        "digits, idx = _unicode_to_idx_map(\"0966\", \"096F\", idx)\n",
        "om, idx = _unicode_to_idx_map(\"0950\", \"0950\", idx)\n",
        "additional, idx = _unicode_to_idx_map(\"0958\", \"095F\", idx)\n",
        "\n",
        "name2idx.update(digits)\n",
        "name2idx.update(om)\n",
        "name2idx.update(additional)"
      ],
      "execution_count": 0,
      "outputs": []
    },
    {
      "cell_type": "code",
      "metadata": {
        "id": "5OPBKDGCcUdX",
        "colab_type": "code",
        "colab": {}
      },
      "source": [
        "def get_labels(text, name2idx):\n",
        "    labels = list()\n",
        "    for char in text:\n",
        "        name = unicodedata.name(char)\n",
        "        index = name2idx[name]\n",
        "        labels.append(index)\n",
        "    return labels"
      ],
      "execution_count": 0,
      "outputs": []
    },
    {
      "cell_type": "code",
      "metadata": {
        "id": "f_I-fudlagnO",
        "colab_type": "code",
        "colab": {}
      },
      "source": [
        "# annotation_file_loc = '/content/cropped_data/annotations.txt'\n",
        "annotation_file_loc = '/content/cropped_dir/annotation.txt'\n",
        "with open(annotation_file_loc) as fp:\n",
        "    # find the max length of the data labels for padding\n",
        "    labels = list()\n",
        "    for line in fp.readlines():\n",
        "        hindi_text = line.split('\\t')[1].strip()\n",
        "        try:\n",
        "            labels.append(get_labels(hindi_text, name2idx))\n",
        "        except KeyError:\n",
        "            pass\n",
        "    max_len = max([len(label) for label in labels]) + 2  # including start and stop symbols"
      ],
      "execution_count": 0,
      "outputs": []
    },
    {
      "cell_type": "code",
      "metadata": {
        "id": "fKuKs29MVybs",
        "colab_type": "code",
        "outputId": "9bd17e11-6dbb-4e1f-faf8-4508a224b5f6",
        "colab": {
          "base_uri": "https://localhost:8080/",
          "height": 34
        }
      },
      "source": [
        "cols = ['name', 'text', 'labels', 'unpadded_length']\n",
        "annotation_df = pd.DataFrame()\n",
        "with open(annotation_file_loc) as fp:\n",
        "    data = {}\n",
        "    for line in tqdm(fp.readlines()):\n",
        "        img_path, hindi_text = line.split('\\t')[:2]\n",
        "        img_path = img_path.strip()\n",
        "        hindi_text = hindi_text.strip()\n",
        "        data['name'] = img_path\n",
        "        data['text'] = f\"<start> {hindi_text} <stop>\"\n",
        "        label = [0]  ## Initialize with the <start> token\n",
        "        try:\n",
        "            label.extend(get_labels(hindi_text, name2idx))\n",
        "        except KeyError:\n",
        "            continue\n",
        "        label.append(1)  ## End with the <stop> token\n",
        "        data['unpadded_length'] = int(len(label))\n",
        "        extra_padding = max_len - len(label)\n",
        "        label.extend([2] * extra_padding)\n",
        "        data['labels'] = label\n",
        "        annotation_df = annotation_df.append(data, ignore_index=True)"
      ],
      "execution_count": 0,
      "outputs": [
        {
          "output_type": "stream",
          "text": [
            "100%|██████████| 101660/101660 [09:06<00:00, 129.91it/s]\n"
          ],
          "name": "stderr"
        }
      ]
    },
    {
      "cell_type": "code",
      "metadata": {
        "id": "QjZNijIbbV54",
        "colab_type": "code",
        "outputId": "604448fa-0fb0-4eac-a999-82895684adbc",
        "colab": {
          "base_uri": "https://localhost:8080/",
          "height": 153
        }
      },
      "source": [
        "print(annotation_df.head())\n",
        "annotation_df.to_pickle('/content/drive/My Drive/Project STation/TD/annotation_synthetic_preprocessed.pkl')"
      ],
      "execution_count": 0,
      "outputs": [
        {
          "output_type": "stream",
          "text": [
            "                                              labels  ... unpadded_length\n",
            "0    [0, 23, 51, 1, 2, 2, 2, 2, 2, 2, 2, 2, 2, 2, 2]  ...             4.0\n",
            "1  [0, 36, 51, 39, 65, 1, 2, 2, 2, 2, 2, 2, 2, 2, 2]  ...             6.0\n",
            "2    [0, 27, 51, 1, 2, 2, 2, 2, 2, 2, 2, 2, 2, 2, 2]  ...             4.0\n",
            "3    [0, 49, 51, 1, 2, 2, 2, 2, 2, 2, 2, 2, 2, 2, 2]  ...             4.0\n",
            "4  [0, 24, 60, 66, 18, 1, 2, 2, 2, 2, 2, 2, 2, 2, 2]  ...             6.0\n",
            "\n",
            "[5 rows x 4 columns]\n"
          ],
          "name": "stdout"
        }
      ]
    },
    {
      "cell_type": "code",
      "metadata": {
        "id": "nVaufStJWOrv",
        "colab_type": "code",
        "colab": {}
      },
      "source": [
        ""
      ],
      "execution_count": 0,
      "outputs": []
    }
  ]
}