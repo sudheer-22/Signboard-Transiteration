{
  "nbformat": 4,
  "nbformat_minor": 0,
  "metadata": {
    "colab": {
      "name": "proj_station_detection_preprocess.ipynb",
      "provenance": [],
      "collapsed_sections": [],
      "toc_visible": true
    },
    "kernelspec": {
      "name": "python3",
      "display_name": "Python 3"
    },
    "accelerator": "GPU"
  },
  "cells": [
    {
      "cell_type": "markdown",
      "metadata": {
        "id": "2e0r7VStb9ST",
        "colab_type": "text"
      },
      "source": [
        "Performs bb annotation correction on the existing labels provided in the dataset"
      ]
    },
    {
      "cell_type": "code",
      "metadata": {
        "id": "48-UOR6QV9Pf",
        "colab_type": "code",
        "outputId": "d6d7307c-717d-4fe6-9533-9da72b989c22",
        "colab": {
          "base_uri": "https://localhost:8080/",
          "height": 122
        }
      },
      "source": [
        "from google.colab import drive\n",
        "drive.mount('/content/drive')"
      ],
      "execution_count": 0,
      "outputs": [
        {
          "output_type": "stream",
          "text": [
            "Go to this URL in a browser: https://accounts.google.com/o/oauth2/auth?client_id=947318989803-6bn6qk8qdgf4n4g3pfee6491hc0brc4i.apps.googleusercontent.com&redirect_uri=urn%3Aietf%3Awg%3Aoauth%3A2.0%3Aoob&scope=email%20https%3A%2F%2Fwww.googleapis.com%2Fauth%2Fdocs.test%20https%3A%2F%2Fwww.googleapis.com%2Fauth%2Fdrive%20https%3A%2F%2Fwww.googleapis.com%2Fauth%2Fdrive.photos.readonly%20https%3A%2F%2Fwww.googleapis.com%2Fauth%2Fpeopleapi.readonly&response_type=code\n",
            "\n",
            "Enter your authorization code:\n",
            "··········\n",
            "Mounted at /content/drive\n"
          ],
          "name": "stdout"
        }
      ]
    },
    {
      "cell_type": "code",
      "metadata": {
        "id": "DvTJwfOeC6Hr",
        "colab_type": "code",
        "colab": {}
      },
      "source": [
        "import cv2\n",
        "import os\n",
        "import tarfile\n",
        "import pandas as pd\n",
        "\n",
        "from skimage import io, draw\n",
        "from tqdm import tqdm"
      ],
      "execution_count": 0,
      "outputs": []
    },
    {
      "cell_type": "code",
      "metadata": {
        "id": "uGR46dRDDDkK",
        "colab_type": "code",
        "colab": {}
      },
      "source": [
        "# This location is from the dataset in google drive\n",
        "dataset_tar_loc = 'drive/My Drive/Project STation/detection.tar'\n",
        "dataset_extract_dst = 'detection/'\n",
        "\n",
        "with tarfile.open(dataset_tar_loc, 'r') as tar:\n",
        "    tar.extractall(dataset_extract_dst)"
      ],
      "execution_count": 0,
      "outputs": []
    },
    {
      "cell_type": "markdown",
      "metadata": {
        "id": "mCV_JkflYjms",
        "colab_type": "text"
      },
      "source": [
        "## Dataset loading and preprocessing\n",
        "One time setup for generating the csv file for annotations for training images\n",
        "\n",
        "1) Bounding box correction in the images (The bounding boxes provided in the dataset are not rectangular and are tilted in orientation. We need to correct this.)\n",
        "\n",
        "2) Create a csv file containing the following cols: img_name, bb_coords, height, width, label"
      ]
    },
    {
      "cell_type": "code",
      "metadata": {
        "id": "L_kDUVYigIQX",
        "colab_type": "code",
        "colab": {}
      },
      "source": [
        "def get_box_attrs(annotation_file_path):\n",
        "    with open(annotation_file_path, 'r') as annotation:\n",
        "        box_attrs = list()\n",
        "        gt = annotation.readlines()\n",
        "        for box in gt:\n",
        "            attrs = {}\n",
        "            coords = box.split(',')[:8]\n",
        "            coords = [int(coord) for coord in coords]\n",
        "            coords = _correct_gt_bb(coords)\n",
        "            attrs['coords'] = coords\n",
        "            attrs['height'] = abs(coords[7] - coords[4])  # height = abs(y1 - y4)\n",
        "            attrs['width'] = abs(coords[1] - coords[0])  # width = abs(x1 - x2)\n",
        "            attrs['c_coords'] = [(coords[0] + coords[1]) / 2, (coords[4] + coords[7]) / 2]\n",
        "\n",
        "            # Get the label for the annotation\n",
        "            label = box.split(',')[-1].split('::')[-1].rstrip('\\n')\n",
        "\n",
        "            # We dont count boxes labeled as `ENGLISH`\n",
        "            if label == 'ENGLISH':\n",
        "                continue\n",
        "            attrs['label'] = label\n",
        "            box_attrs.append(attrs)\n",
        "    return box_attrs"
      ],
      "execution_count": 0,
      "outputs": []
    },
    {
      "cell_type": "code",
      "metadata": {
        "id": "UI0PT246NJT_",
        "colab_type": "code",
        "colab": {}
      },
      "source": [
        "def _correct_gt_bb(coord):\n",
        "    x1, x2, x3, x4, y1, y2, y3, y4 = coord[0],coord[1],coord[2],coord[3],coord[4],coord[5],coord[6],coord[7]\n",
        "    x1 = x4 = min(x1, x4)\n",
        "    x2 = x3 = max(x2, x3)\n",
        "    y1 = y2 = min(y1, y2)\n",
        "    y3 = y4 = max(y3, y4)\n",
        "    return (x1, x2, x3, x4, y1, y2, y3, y4)"
      ],
      "execution_count": 0,
      "outputs": []
    },
    {
      "cell_type": "code",
      "metadata": {
        "id": "WnflbcX9DPj4",
        "colab_type": "code",
        "outputId": "5f513e1a-3e85-4f85-a6e5-cf2ba5a7d966",
        "colab": {
          "base_uri": "https://localhost:8080/",
          "height": 34
        }
      },
      "source": [
        "# Plot some bounding boxes on some images for a sanity check\n",
        "image_loc = os.path.join(dataset_extract_dst, 'real_Image_dataset_Detection/Image/')\n",
        "annotation_loc = os.path.join(dataset_extract_dst, 'real_Image_dataset_Detection/Annotation/')\n",
        "image_list = [os.path.join(image_loc, name) for name in os.listdir(image_loc)]\n",
        "\n",
        "cols = ['image', 'coords', 'height', 'width', 'c_coords', 'label']\n",
        "ground_truth = pd.DataFrame(columns=cols)\n",
        "\n",
        "for image_path in tqdm(image_list):\n",
        "    data_record = {}\n",
        "    image_name = os.path.splitext(os.path.basename(image_path))[0]\n",
        "    data_record['image'] = image_path\n",
        "\n",
        "    annotation_name = f\"{image_name}.txt\"\n",
        "    annotation_path = os.path.join(annotation_loc, annotation_name)\n",
        "    box_attrs = get_box_attrs(annotation_path)\n",
        "    if len(box_attrs) == 0:\n",
        "        continue\n",
        "\n",
        "    data_record['coords'] = [box['coords'] for box in box_attrs]\n",
        "    data_record['c_coords'] = [box['c_coords'] for box in box_attrs]\n",
        "    data_record['height'] = [box['height'] for box in box_attrs]\n",
        "    data_record['width'] = [box['width'] for box in box_attrs]\n",
        "    data_record['label'] = [box['label'] for box in box_attrs]\n",
        "\n",
        "    # Add this record to the dataframe\n",
        "    ground_truth = ground_truth.append(data_record, ignore_index=True)"
      ],
      "execution_count": 0,
      "outputs": [
        {
          "output_type": "stream",
          "text": [
            "100%|██████████| 428/428 [00:01<00:00, 295.32it/s]\n"
          ],
          "name": "stderr"
        }
      ]
    },
    {
      "cell_type": "code",
      "metadata": {
        "id": "7T3-2_D2abDj",
        "colab_type": "code",
        "outputId": "54ca7602-b763-4a62-889a-3da5af0f0cac",
        "colab": {
          "base_uri": "https://localhost:8080/",
          "height": 289
        }
      },
      "source": [
        "ground_truth.head()"
      ],
      "execution_count": 0,
      "outputs": [
        {
          "output_type": "execute_result",
          "data": {
            "text/html": [
              "<div>\n",
              "<style scoped>\n",
              "    .dataframe tbody tr th:only-of-type {\n",
              "        vertical-align: middle;\n",
              "    }\n",
              "\n",
              "    .dataframe tbody tr th {\n",
              "        vertical-align: top;\n",
              "    }\n",
              "\n",
              "    .dataframe thead th {\n",
              "        text-align: right;\n",
              "    }\n",
              "</style>\n",
              "<table border=\"1\" class=\"dataframe\">\n",
              "  <thead>\n",
              "    <tr style=\"text-align: right;\">\n",
              "      <th></th>\n",
              "      <th>image</th>\n",
              "      <th>coords</th>\n",
              "      <th>height</th>\n",
              "      <th>width</th>\n",
              "      <th>c_coords</th>\n",
              "      <th>label</th>\n",
              "    </tr>\n",
              "  </thead>\n",
              "  <tbody>\n",
              "    <tr>\n",
              "      <th>0</th>\n",
              "      <td>detection/real_Image_dataset_Detection/Image/1...</td>\n",
              "      <td>[(286, 683, 683, 286, 25, 25, 204, 204), (268,...</td>\n",
              "      <td>[179, 155, 110]</td>\n",
              "      <td>[397, 412, 402]</td>\n",
              "      <td>[[484.5, 114.5], [474.0, 271.5], [460.0, 404.0]]</td>\n",
              "      <td>[HINDI, HINDI, HINDI]</td>\n",
              "    </tr>\n",
              "    <tr>\n",
              "      <th>1</th>\n",
              "      <td>detection/real_Image_dataset_Detection/Image/3...</td>\n",
              "      <td>[(59, 157, 157, 59, 201, 201, 261, 261), (159,...</td>\n",
              "      <td>[60, 74, 73, 85, 39, 47, 49, 57, 49]</td>\n",
              "      <td>[98, 169, 149, 167, 185, 175, 134, 54, 31]</td>\n",
              "      <td>[[108.0, 231.0], [243.5, 222.0], [407.5, 218.5...</td>\n",
              "      <td>[HINDI, HINDI, HINDI, HINDI, HINDI, HINDI, HIN...</td>\n",
              "    </tr>\n",
              "    <tr>\n",
              "      <th>2</th>\n",
              "      <td>detection/real_Image_dataset_Detection/Image/1...</td>\n",
              "      <td>[(5, 272, 272, 5, 183, 183, 400, 400), (257, 4...</td>\n",
              "      <td>[217, 196, 225]</td>\n",
              "      <td>[267, 175, 277]</td>\n",
              "      <td>[[138.5, 291.5], [344.5, 245.0], [571.5, 286.5]]</td>\n",
              "      <td>[HINDI, HINDI, HINDI]</td>\n",
              "    </tr>\n",
              "    <tr>\n",
              "      <th>3</th>\n",
              "      <td>detection/real_Image_dataset_Detection/Image/1...</td>\n",
              "      <td>[(240, 310, 310, 240, 28, 28, 70, 70), (304, 3...</td>\n",
              "      <td>[42, 56, 46, 172, 137, 96]</td>\n",
              "      <td>[70, 50, 64, 273, 198, 167]</td>\n",
              "      <td>[[275.0, 49.0], [329.0, 50.0], [389.0, 49.0], ...</td>\n",
              "      <td>[HINDI, HINDI, HINDI, HINDI, HINDI, HINDI]</td>\n",
              "    </tr>\n",
              "    <tr>\n",
              "      <th>4</th>\n",
              "      <td>detection/real_Image_dataset_Detection/Image/2...</td>\n",
              "      <td>[(321, 487, 487, 321, 160, 160, 203, 203), (42...</td>\n",
              "      <td>[43, 70, 65, 80, 48, 46, 41, 34, 38, 46]</td>\n",
              "      <td>[166, 190, 160, 208, 73, 54, 107, 72, 59, 143]</td>\n",
              "      <td>[[404.0, 181.5], [137.0, 253.0], [310.0, 236.5...</td>\n",
              "      <td>[HINDI, HINDI, HINDI, HINDI, HINDI, HINDI, HIN...</td>\n",
              "    </tr>\n",
              "  </tbody>\n",
              "</table>\n",
              "</div>"
            ],
            "text/plain": [
              "                                               image  ...                                              label\n",
              "0  detection/real_Image_dataset_Detection/Image/1...  ...                              [HINDI, HINDI, HINDI]\n",
              "1  detection/real_Image_dataset_Detection/Image/3...  ...  [HINDI, HINDI, HINDI, HINDI, HINDI, HINDI, HIN...\n",
              "2  detection/real_Image_dataset_Detection/Image/1...  ...                              [HINDI, HINDI, HINDI]\n",
              "3  detection/real_Image_dataset_Detection/Image/1...  ...         [HINDI, HINDI, HINDI, HINDI, HINDI, HINDI]\n",
              "4  detection/real_Image_dataset_Detection/Image/2...  ...  [HINDI, HINDI, HINDI, HINDI, HINDI, HINDI, HIN...\n",
              "\n",
              "[5 rows x 6 columns]"
            ]
          },
          "metadata": {
            "tags": []
          },
          "execution_count": 7
        }
      ]
    },
    {
      "cell_type": "code",
      "metadata": {
        "id": "U7h8VeroZ-40",
        "colab_type": "code",
        "colab": {}
      },
      "source": [
        "# export the dataframe to a csv file\n",
        "ground_truth.to_csv('annotations.csv', index=False)"
      ],
      "execution_count": 0,
      "outputs": []
    },
    {
      "cell_type": "code",
      "metadata": {
        "id": "gFbofnMZntn5",
        "colab_type": "code",
        "colab": {}
      },
      "source": [
        "    "
      ],
      "execution_count": 0,
      "outputs": []
    }
  ]
}