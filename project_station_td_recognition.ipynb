{
  "nbformat": 4,
  "nbformat_minor": 0,
  "metadata": {
    "colab": {
      "name": "project_station_td_recognition.ipynb",
      "provenance": [],
      "collapsed_sections": [],
      "toc_visible": true
    },
    "kernelspec": {
      "name": "python3",
      "display_name": "Python 3"
    },
    "accelerator": "GPU"
  },
  "cells": [
    {
      "cell_type": "markdown",
      "metadata": {
        "id": "Udg1hOdebnM0",
        "colab_type": "text"
      },
      "source": [
        "Loads the dataset and the pickle file generated from preprocessing and trains an encoder decoder model from the paper `Show and Tell`"
      ]
    },
    {
      "cell_type": "code",
      "metadata": {
        "id": "pmAkBPEUre0y",
        "colab_type": "code",
        "outputId": "4a14dd6b-64c9-4187-d9db-b3fc3e2cb7ef",
        "colab": {
          "base_uri": "https://localhost:8080/",
          "height": 34
        }
      },
      "source": [
        "from google.colab import drive\n",
        "drive.mount('/content/drive', force_remount=True)"
      ],
      "execution_count": 0,
      "outputs": [
        {
          "output_type": "stream",
          "text": [
            "Mounted at /content/drive\n"
          ],
          "name": "stdout"
        }
      ]
    },
    {
      "cell_type": "markdown",
      "metadata": {
        "id": "351B2F3ysjFu",
        "colab_type": "text"
      },
      "source": [
        "## Data loading"
      ]
    },
    {
      "cell_type": "code",
      "metadata": {
        "id": "_5oyIHQkrgEg",
        "colab_type": "code",
        "colab": {}
      },
      "source": [
        "import numpy as np\n",
        "import pandas as pd\n",
        "import matplotlib.pyplot as plt\n",
        "import tarfile\n",
        "import torch"
      ],
      "execution_count": 0,
      "outputs": []
    },
    {
      "cell_type": "code",
      "metadata": {
        "id": "_K6ESMa-uXA_",
        "colab_type": "code",
        "colab": {}
      },
      "source": [
        "random_state = 2019"
      ],
      "execution_count": 0,
      "outputs": []
    },
    {
      "cell_type": "code",
      "metadata": {
        "id": "bw3u2718r2BE",
        "colab_type": "code",
        "colab": {}
      },
      "source": [
        "tarfile_loc = '/content/drive/My Drive/Project STation/TD/recognition_real_dataset/cropped_data.tar'  # Used for finetuning\n",
        "# tarfile_loc = '/content/drive/My Drive/Project STation/TD/synthetic_cropped.tar.gz'  # Used for pretraining\n",
        "\n",
        "with tarfile.open(tarfile_loc) as tarf:\n",
        "    tarf.extractall()"
      ],
      "execution_count": 0,
      "outputs": []
    },
    {
      "cell_type": "code",
      "metadata": {
        "id": "VP0oGsUHr4Qy",
        "colab_type": "code",
        "outputId": "caffc20f-1c21-46cd-a7ec-f6cc7b8feddd",
        "colab": {
          "base_uri": "https://localhost:8080/",
          "height": 204
        }
      },
      "source": [
        "\"\"\"\n",
        "The tokens <start> <stop> and <UNK> have the indices 0, 1, 2 respectively\n",
        "\"\"\"\n",
        "sos_id = 0\n",
        "eos_id = 1\n",
        "pad_id = 2\n",
        "annotation_file_path = '/content/drive/My Drive/Project STation/TD/recognition_real_dataset/annotation_preprocessed.pkl'\n",
        "img_loc = '/content/cropped_data/cropped_dir/'\n",
        "# annotation_file_path = '/content/drive/My Drive/Project STation/TD/annotation_synthetic_preprocessed.pkl'\n",
        "# img_loc = '/content/cropped_dir/'\n",
        "\n",
        "annotation_df = pd.read_pickle(annotation_file_path)\n",
        "annotation_df.head()"
      ],
      "execution_count": 0,
      "outputs": [
        {
          "output_type": "execute_result",
          "data": {
            "text/html": [
              "<div>\n",
              "<style scoped>\n",
              "    .dataframe tbody tr th:only-of-type {\n",
              "        vertical-align: middle;\n",
              "    }\n",
              "\n",
              "    .dataframe tbody tr th {\n",
              "        vertical-align: top;\n",
              "    }\n",
              "\n",
              "    .dataframe thead th {\n",
              "        text-align: right;\n",
              "    }\n",
              "</style>\n",
              "<table border=\"1\" class=\"dataframe\">\n",
              "  <thead>\n",
              "    <tr style=\"text-align: right;\">\n",
              "      <th></th>\n",
              "      <th>labels</th>\n",
              "      <th>name</th>\n",
              "      <th>text</th>\n",
              "      <th>unpadded_length</th>\n",
              "    </tr>\n",
              "  </thead>\n",
              "  <tbody>\n",
              "    <tr>\n",
              "      <th>0</th>\n",
              "      <td>[0, 31, 53, 1, 2, 2, 2, 2, 2, 2, 2, 2, 2, 2, 2...</td>\n",
              "      <td>cropped_dir/0.jpg</td>\n",
              "      <td>&lt;start&gt; जल &lt;stop&gt;</td>\n",
              "      <td>4.0</td>\n",
              "    </tr>\n",
              "    <tr>\n",
              "      <th>1</th>\n",
              "      <td>[0, 57, 78, 42, 1, 2, 2, 2, 2, 2, 2, 2, 2, 2, ...</td>\n",
              "      <td>cropped_dir/1.jpg</td>\n",
              "      <td>&lt;start&gt; शोध &lt;stop&gt;</td>\n",
              "      <td>5.0</td>\n",
              "    </tr>\n",
              "    <tr>\n",
              "      <th>2</th>\n",
              "      <td>[0, 43, 1, 2, 2, 2, 2, 2, 2, 2, 2, 2, 2, 2, 2, 2]</td>\n",
              "      <td>cropped_dir/2.jpg</td>\n",
              "      <td>&lt;start&gt; न &lt;stop&gt;</td>\n",
              "      <td>3.0</td>\n",
              "    </tr>\n",
              "    <tr>\n",
              "      <th>3</th>\n",
              "      <td>[0, 59, 5, 50, 5, 39, 80, 51, 1, 2, 2, 2, 2, 2...</td>\n",
              "      <td>cropped_dir/3.jpg</td>\n",
              "      <td>&lt;start&gt; संयंत्र &lt;stop&gt;</td>\n",
              "      <td>9.0</td>\n",
              "    </tr>\n",
              "    <tr>\n",
              "      <th>4</th>\n",
              "      <td>[0, 47, 66, 43, 65, 1, 2, 2, 2, 2, 2, 2, 2, 2,...</td>\n",
              "      <td>cropped_dir/4.jpg</td>\n",
              "      <td>&lt;start&gt; बिना &lt;stop&gt;</td>\n",
              "      <td>6.0</td>\n",
              "    </tr>\n",
              "  </tbody>\n",
              "</table>\n",
              "</div>"
            ],
            "text/plain": [
              "                                              labels  ... unpadded_length\n",
              "0  [0, 31, 53, 1, 2, 2, 2, 2, 2, 2, 2, 2, 2, 2, 2...  ...             4.0\n",
              "1  [0, 57, 78, 42, 1, 2, 2, 2, 2, 2, 2, 2, 2, 2, ...  ...             5.0\n",
              "2  [0, 43, 1, 2, 2, 2, 2, 2, 2, 2, 2, 2, 2, 2, 2, 2]  ...             3.0\n",
              "3  [0, 59, 5, 50, 5, 39, 80, 51, 1, 2, 2, 2, 2, 2...  ...             9.0\n",
              "4  [0, 47, 66, 43, 65, 1, 2, 2, 2, 2, 2, 2, 2, 2,...  ...             6.0\n",
              "\n",
              "[5 rows x 4 columns]"
            ]
          },
          "metadata": {
            "tags": []
          },
          "execution_count": 5
        }
      ]
    },
    {
      "cell_type": "code",
      "metadata": {
        "id": "MTKaivvdshhu",
        "colab_type": "code",
        "outputId": "2fff54cb-f812-4d09-9f3a-a21f90961851",
        "colab": {
          "base_uri": "https://localhost:8080/",
          "height": 68
        }
      },
      "source": [
        "# Train test split\n",
        "from sklearn.model_selection import train_test_split\n",
        "\n",
        "train_df, test_df = train_test_split(annotation_df, test_size=0.10, random_state=random_state, shuffle=True)\n",
        "train_df, val_df = train_test_split(train_df, test_size=0.05, random_state=random_state, shuffle=True)\n",
        "print(train_df.shape)\n",
        "print(val_df.shape)\n",
        "print(test_df.shape)"
      ],
      "execution_count": 0,
      "outputs": [
        {
          "output_type": "stream",
          "text": [
            "(1487, 4)\n",
            "(79, 4)\n",
            "(174, 4)\n"
          ],
          "name": "stdout"
        }
      ]
    },
    {
      "cell_type": "markdown",
      "metadata": {
        "id": "ZS9nvzFpMpbj",
        "colab_type": "text"
      },
      "source": [
        "## Create pytorch dataset"
      ]
    },
    {
      "cell_type": "code",
      "metadata": {
        "id": "Vj363pxHu116",
        "colab_type": "code",
        "colab": {}
      },
      "source": [
        "from torch.utils.data import Dataset, DataLoader\n",
        "import os\n",
        "from PIL import Image\n",
        "import cv2\n",
        "from tqdm import tqdm"
      ],
      "execution_count": 0,
      "outputs": []
    },
    {
      "cell_type": "code",
      "metadata": {
        "id": "jU1CBiHFQqWu",
        "colab_type": "code",
        "colab": {}
      },
      "source": [
        "class HindiText(Dataset):\n",
        "    def __init__(self, base_dir, num_classes, transform=None, df=None, annotation_file_path=None):\n",
        "        super().__init__()\n",
        "        self.transform = transform\n",
        "        if annotation_file_path is not None:\n",
        "            annotation_ext = os.path.splitext(annotation_file_path)\n",
        "            if annotation_ext is 'csv':\n",
        "                self.annotation_df = pd.read_csv(annotation_file_path)\n",
        "            elif annotation_ext is 'pkl':\n",
        "                self.annotation_df = pd.read_pickle(annotation_file_path)\n",
        "            else:\n",
        "                raise ValueError('Only the (.csv, .pkl) extensions are supported')\n",
        "        elif df is not None:\n",
        "            self.annotation_df = df\n",
        "        else:\n",
        "            raise ValueError('Only one of `df` and `annotation_file_path` can be provided')\n",
        "\n",
        "        self.images = []\n",
        "        self.targets = []\n",
        "        self.lengths = []\n",
        "\n",
        "        for idx in tqdm(range(len(self.annotation_df))):\n",
        "            obj = self.annotation_df.iloc[idx]\n",
        "            img_path = os.path.join(base_dir, obj['name'])\n",
        "            img = cv2.imread(img_path)\n",
        "            try:\n",
        "                img = Image.fromarray(img)\n",
        "            except:\n",
        "                continue\n",
        "            self.images.append(img)\n",
        "            self.targets.append(torch.as_tensor(obj['labels'], dtype=torch.long))\n",
        "            self.lengths.append(torch.as_tensor(obj['unpadded_length'], dtype=torch.long))\n",
        "\n",
        "    def __len__(self):\n",
        "        return len(self.images)\n",
        "\n",
        "    def __getitem__(self, idx):\n",
        "        image = self.images[idx]\n",
        "        target = self.targets[idx]\n",
        "        orig_length = self.lengths[idx]\n",
        "        if self.transform:\n",
        "            image = self.transform(image)\n",
        "        return image, target, orig_length\n",
        "        "
      ],
      "execution_count": 0,
      "outputs": []
    },
    {
      "cell_type": "code",
      "metadata": {
        "id": "8RdYvfdWcCAG",
        "colab_type": "code",
        "colab": {}
      },
      "source": [
        "# Define the transforms for the train set\n",
        "from torchvision import transforms\n",
        "\n",
        "def get_transforms(train=False):\n",
        "    T = list()\n",
        "    if train:\n",
        "        # Add more transforms here\n",
        "        # T.append(transforms.RandomGrayscale(p=0.5))\n",
        "        pass\n",
        "    # T.append(transforms.Resize((224, 224)))  # Used for VGG\n",
        "    T.append(transforms.Resize((299, 299)))  # Used for inception_v3\n",
        "    T.append(transforms.ToTensor())\n",
        "    return transforms.Compose(T)"
      ],
      "execution_count": 0,
      "outputs": []
    },
    {
      "cell_type": "code",
      "metadata": {
        "id": "DPohElu7aCjP",
        "colab_type": "code",
        "outputId": "2b99bad9-409f-481e-fcc6-1f2f7e097865",
        "colab": {
          "base_uri": "https://localhost:8080/",
          "height": 68
        }
      },
      "source": [
        "base_dir = '/content/cropped_data'\n",
        "# base_dir = \"\"\n",
        "num_classes = 100\n",
        "train_dataset = HindiText(base_dir, num_classes, df=train_df, transform=get_transforms(train=True))\n",
        "val_dataset = HindiText(base_dir, num_classes, df=val_df, transform=get_transforms())\n",
        "test_dataset = HindiText(base_dir, num_classes, df=test_df, transform=get_transforms())"
      ],
      "execution_count": 0,
      "outputs": [
        {
          "output_type": "stream",
          "text": [
            "100%|██████████| 1487/1487 [00:02<00:00, 601.55it/s]\n",
            "100%|██████████| 79/79 [00:00<00:00, 722.87it/s]\n",
            "100%|██████████| 174/174 [00:00<00:00, 667.33it/s]\n"
          ],
          "name": "stderr"
        }
      ]
    },
    {
      "cell_type": "code",
      "metadata": {
        "id": "0E-lTRdNbPLy",
        "colab_type": "code",
        "outputId": "5f88099c-d543-43d8-ae83-ffd1ce481a7e",
        "colab": {
          "base_uri": "https://localhost:8080/",
          "height": 303
        }
      },
      "source": [
        "# Sanity check the dataset creation\n",
        "sample_image, sample_target, sample_length = train_dataset[0]\n",
        "plt.imshow(sample_image.permute(1, 2, 0))\n",
        "print(sample_target.shape)\n",
        "print(sample_length)"
      ],
      "execution_count": 0,
      "outputs": [
        {
          "output_type": "stream",
          "text": [
            "torch.Size([16])\n",
            "tensor(8)\n"
          ],
          "name": "stdout"
        },
        {
          "output_type": "display_data",
          "data": {
            "image/png": "[encoded data removed]",
            "text/plain": [
              "<Figure size 432x288 with 1 Axes>"
            ]
          },
          "metadata": {
            "tags": []
          }
        }
      ]
    },
    {
      "cell_type": "markdown",
      "metadata": {
        "id": "rfQIZKryh2Rp",
        "colab_type": "text"
      },
      "source": [
        "## Define the encoder decoder model here\n",
        "\n",
        "Using the encoder decoder implementation from the paper `Show and Tell` with a pretrained VGG-16 encoder and a untrained Bi-LSTM model in the decoder. Not using the attention model for generating the characters. The decoder is a character level RNN.\n",
        "\n",
        "The Encoder is a VGG-11 model with batch normalization."
      ]
    },
    {
      "cell_type": "code",
      "metadata": {
        "id": "ZfYpR_omdIRI",
        "colab_type": "code",
        "colab": {}
      },
      "source": [
        "import torchvision.models as models\n",
        "import torch.nn as nn"
      ],
      "execution_count": 0,
      "outputs": []
    },
    {
      "cell_type": "code",
      "metadata": {
        "id": "42HqYRujjIMR",
        "colab_type": "code",
        "colab": {}
      },
      "source": [
        "class Encoder(nn.Module):\n",
        "    def __init__(self, output_size):\n",
        "        super().__init__()\n",
        "        # self.encoder = models.vgg16_bn(pretrained=True)\n",
        "        self.encoder = models.inception_v3(pretrained=True, aux_logits=False)\n",
        "        # self.encoder.classifier[6] = nn.Linear(in_features=4096, out_features=output_size, bias=False)\n",
        "        self.encoder.fc = nn.Linear(in_features=2048, out_features=output_size, bias=False)\n",
        "\n",
        "        # Freeze the model params except the classifier block of the network\n",
        "        freeze_layer = 'Mixed_7c.branch_pool.conv.weight'\n",
        "        # freeze_layer = 'Mixed_7a.branch3x3_1.conv.weight'\n",
        "        for name, param in self.encoder.named_parameters():\n",
        "            if name == freeze_layer:\n",
        "                break\n",
        "            param.requires_grad = False\n",
        "\n",
        "    def forward(self, input):\n",
        "        output = self.encoder(input)\n",
        "        return output"
      ],
      "execution_count": 0,
      "outputs": []
    },
    {
      "cell_type": "code",
      "metadata": {
        "id": "N4jYMqh9YizO",
        "colab_type": "code",
        "outputId": "5b8bcddd-eb06-4e20-c7ce-e951aa7cfb6e",
        "colab": {
          "base_uri": "https://localhost:8080/",
          "height": 68
        }
      },
      "source": [
        "# Sanity check the model\n",
        "print(len(train_dataset))\n",
        "train_loader = torch.utils.data.DataLoader(train_dataset, batch_size=32, shuffle=True, num_workers=4)\n",
        "sample_batch, sample_labels, sample_lengths = next(iter(train_loader))\n",
        "sample_batch = sample_batch.cuda()\n",
        "sample_labels = sample_labels.cuda()\n",
        "print(sample_batch.shape)\n",
        "print(sample_labels.shape)"
      ],
      "execution_count": 0,
      "outputs": [
        {
          "output_type": "stream",
          "text": [
            "1487\n",
            "torch.Size([32, 3, 299, 299])\n",
            "torch.Size([32, 16])\n"
          ],
          "name": "stdout"
        }
      ]
    },
    {
      "cell_type": "code",
      "metadata": {
        "id": "bs1PbEFeYoe9",
        "colab_type": "code",
        "outputId": "2589348c-73d4-4d8a-ecfa-f8809fb5a0c9",
        "colab": {
          "base_uri": "https://localhost:8080/",
          "height": 34
        }
      },
      "source": [
        "output_size = 512\n",
        "encoder = Encoder(output_size).cuda()\n",
        "sample_features = encoder(sample_batch)\n",
        "print(sample_features.shape)"
      ],
      "execution_count": 0,
      "outputs": [
        {
          "output_type": "stream",
          "text": [
            "torch.Size([32, 512])\n"
          ],
          "name": "stdout"
        }
      ]
    },
    {
      "cell_type": "code",
      "metadata": {
        "id": "1R-idV7NbKOr",
        "colab_type": "code",
        "colab": {}
      },
      "source": [
        "# Define the Decoder\n",
        "class Decoder(nn.Module):\n",
        "    def __init__(self, hidden_size, output_size, pad_id, num_layers=1, dropout=0, bi=False):\n",
        "        super().__init__()\n",
        "        self.pad_id = pad_id\n",
        "        self.embedding = nn.Embedding(output_size, hidden_size, padding_idx=self.pad_id)\n",
        "        # self.lstm = nn.LSTM(hidden_size, hidden_size, num_layers=num_layers, bias=False, batch_first=True, dropout=dropout, bidirectional=bi)\n",
        "        self.gru = nn.GRU(hidden_size, hidden_size, num_layers=num_layers, bias=False, batch_first=True, dropout=dropout, bidirectional=bi)\n",
        "        if bi is True:\n",
        "            hidden_size = 2 * hidden_size\n",
        "        self.linear = nn.Linear(hidden_size, output_size, bias=False)\n",
        "        # Incoming dim would be (batch_size, seq_len, output_size)\n",
        "        self.softmax = nn.LogSoftmax(dim=2)\n",
        "\n",
        "    def forward(self, input, hidden_state, lengths):\n",
        "        embedding = self.embedding(input)\n",
        "\n",
        "        # Pack the padded embedding sequence\n",
        "        packed_seq = nn.utils.rnn.pack_padded_sequence(embedding, lengths, batch_first=True, enforce_sorted=False)\n",
        "        # output, (h_state, c_state) = self.lstm(packed_seq, hidden_state)\n",
        "        output, h_state = self.gru(packed_seq, hidden_state)\n",
        "\n",
        "        # Unpack the lstm output\n",
        "        output, _ = nn.utils.rnn.pad_packed_sequence(output, batch_first=True)\n",
        "        output = self.linear(output)\n",
        "        output = self.softmax(output)\n",
        "        return output, h_state"
      ],
      "execution_count": 0,
      "outputs": []
    },
    {
      "cell_type": "code",
      "metadata": {
        "id": "ax-Cav3BeAmC",
        "colab_type": "code",
        "outputId": "7612509e-f309-4d4d-ba10-08f9af554517",
        "colab": {
          "base_uri": "https://localhost:8080/",
          "height": 34
        }
      },
      "source": [
        "# Sanity check the decoder\n",
        "input_size = 16\n",
        "hidden_size = 512\n",
        "output_size = 100\n",
        "\n",
        "decoder = Decoder(hidden_size, output_size, pad_id).cuda()\n",
        "# hidden_state = (sample_features.view(1, -1, hidden_size), torch.zeros(sample_features.view(1, -1, hidden_size).shape, device='cuda'))\n",
        "hidden_state = sample_features.view(1, -1, hidden_size)\n",
        "# decoder_output, (hn_state, cn_state) = decoder(sample_labels, hidden_state, sample_lengths)\n",
        "decoder_output, hn_state = decoder(sample_labels, hidden_state, sample_lengths)\n",
        "print(decoder_output.shape)"
      ],
      "execution_count": 0,
      "outputs": [
        {
          "output_type": "stream",
          "text": [
            "torch.Size([32, 12, 100])\n"
          ],
          "name": "stdout"
        }
      ]
    },
    {
      "cell_type": "markdown",
      "metadata": {
        "id": "5WOsvVuknaV_",
        "colab_type": "text"
      },
      "source": [
        "## Model training"
      ]
    },
    {
      "cell_type": "code",
      "metadata": {
        "id": "iDm2_fR7s7qh",
        "colab_type": "code",
        "colab": {}
      },
      "source": [
        "num_epochs = 10\n",
        "log_step = 20\n",
        "batch_size = 32\n",
        "num_workers = 4\n",
        "\n",
        "# Encoder Model hyperparameters\n",
        "enc_output_size = 1024\n",
        "enc_learning_rate = 0.001\n",
        "\n",
        "# Decoder Model hyperparameters\n",
        "seq_size = 16  # Sequence length\n",
        "hidden_size = enc_output_size  # Hidden layer size\n",
        "output_size = 100  # Number of classes\n",
        "dec_learning_rate = 0.001\n",
        "bidirectional = False  # Whether to use bi-LSTM\n",
        "dropout = 0.3\n",
        "num_layers = 3  # Number of LSTM stacks per seq step\n",
        "num_directions = 2 if bidirectional else 1"
      ],
      "execution_count": 0,
      "outputs": []
    },
    {
      "cell_type": "code",
      "metadata": {
        "id": "YTIFODSlqCl1",
        "colab_type": "code",
        "colab": {}
      },
      "source": [
        "train_loader = torch.utils.data.DataLoader(train_dataset, batch_size=batch_size, shuffle=True, num_workers=num_workers)\n",
        "test_loader = torch.utils.data.DataLoader(test_dataset, batch_size=batch_size, shuffle=True, num_workers=num_workers)\n",
        "val_loader = torch.utils.data.DataLoader(val_dataset, batch_size=batch_size, shuffle=True, num_workers=num_workers)"
      ],
      "execution_count": 0,
      "outputs": []
    },
    {
      "cell_type": "code",
      "metadata": {
        "id": "U3Iy5V82k7WE",
        "colab_type": "code",
        "colab": {}
      },
      "source": [
        "# Loss criteria\n",
        "loss = nn.NLLLoss()\n",
        "\n",
        "# Model and optimizer variables\n",
        "encoder = Encoder(enc_output_size).cuda()\n",
        "encoder_optim = torch.optim.Adam(encoder.parameters(), lr=enc_learning_rate)\n",
        "\n",
        "decoder = Decoder(hidden_size, output_size, pad_id, num_layers=num_layers, dropout=dropout, bi=bidirectional).cuda()\n",
        "decoder_optim = torch.optim.Adam(decoder.parameters(), lr=dec_learning_rate)"
      ],
      "execution_count": 0,
      "outputs": []
    },
    {
      "cell_type": "code",
      "metadata": {
        "id": "N6Y5KHHbTBRg",
        "colab_type": "code",
        "outputId": "a5a23405-bce3-4534-95e1-eacf2ff1ee17",
        "colab": {
          "base_uri": "https://localhost:8080/",
          "height": 34
        }
      },
      "source": [
        "# Load the pretrained model parameters\n",
        "encoder.load_state_dict(torch.load('/content/drive/My Drive/Project STation/TD/16_Oct19/encoder_inceptionv3_1024.pt'))\n",
        "decoder.load_state_dict(torch.load('/content/drive/My Drive/Project STation/TD/16_Oct19/decoder_unigru_drop0.0_3.pt'))"
      ],
      "execution_count": 0,
      "outputs": [
        {
          "output_type": "execute_result",
          "data": {
            "text/plain": [
              "<All keys matched successfully>"
            ]
          },
          "metadata": {
            "tags": []
          },
          "execution_count": 29
        }
      ]
    },
    {
      "cell_type": "code",
      "metadata": {
        "id": "gstRV53cs1pJ",
        "colab_type": "code",
        "colab": {}
      },
      "source": [
        "def preds(image, encoder, decoder, sos_token_id, eos_token_id):\n",
        "    # Put the models in the evaluation mode\n",
        "    max_seq_len = seq_size\n",
        "\n",
        "    image = image.unsqueeze(0).cuda()\n",
        "\n",
        "    with torch.no_grad():\n",
        "        # get the encoder output or the context vector\n",
        "        context = encoder(image)\n",
        "        context = context.view(1, -1, enc_output_size)\n",
        "\n",
        "        context = torch.cat([context] * (num_directions * num_layers) , dim=0)\n",
        "\n",
        "        # get the decoder output (with teacher forcing!)\n",
        "        # hidden_state = (context, torch.zeros(context.shape).cuda())\n",
        "        hidden_state = context\n",
        "        input = torch.as_tensor([[sos_token_id]], dtype=torch.long).cuda()\n",
        "        values = []\n",
        "        indices = []\n",
        "        for idx in range(max_seq_len):\n",
        "            # decoder_output, (hn_state, cn_state) = decoder(input, hidden_state, torch.as_tensor([1], dtype=torch.long, device='cuda'))\n",
        "            decoder_output, hn_state = decoder(input, hidden_state, torch.as_tensor([1], dtype=torch.long, device='cuda'))\n",
        "            # hidden_state = (hn_state, cn_state)\n",
        "            hidden_state = hn_state\n",
        "            preds = decoder_output.view(-1, output_size)\n",
        "            preds = torch.topk(preds, 1)\n",
        "            value, index = preds.values, preds.indices.item()\n",
        "            values.extend(torch.exp(value))\n",
        "            indices.append(index)\n",
        "            input = preds.indices\n",
        "\n",
        "            if index == eos_token_id:\n",
        "                break\n",
        "    return values, indices"
      ],
      "execution_count": 0,
      "outputs": []
    },
    {
      "cell_type": "code",
      "metadata": {
        "id": "xrBKeYmzv7UV",
        "colab_type": "code",
        "colab": {}
      },
      "source": [
        "def train_one_epoch(loader, encoder, decoder, e_optim, d_optim, criterion, log_step=10):\n",
        "    loss_profile = []\n",
        "    eos_token = 1\n",
        "    for step, (images, targets, lengths) in enumerate(loader):\n",
        "        batch_size = lengths.size()[0]\n",
        "        images = images.cuda()\n",
        "        targets = targets.cuda()\n",
        "        e_optim.zero_grad()\n",
        "        d_optim.zero_grad()\n",
        "\n",
        "        # get the encoder output or the context vector\n",
        "        context = encoder(images)\n",
        "        context = context.view(1, -1, enc_output_size)\n",
        "\n",
        "        context = torch.cat([context] * (num_directions * num_layers) , dim=0)\n",
        "\n",
        "        # get the decoder output (without teacher forcing!)\n",
        "        # TODO: Experiment with a random state to switch between teacher forcing\n",
        "        # and normal flow\n",
        "        # hidden_state = (context, torch.zeros(context.shape).cuda())\n",
        "        hidden_state = context\n",
        "        loss = 0\n",
        "\n",
        "\n",
        "        # decoder_output, (hn_state, cn_state) = decoder(targets, hidden_state, lengths)\n",
        "        decoder_output, hn_state = decoder(targets, hidden_state, lengths)\n",
        "        # print(decoder_output)\n",
        "        max_seq_size = decoder_output.size()[1]\n",
        "        loss_mask = torch.zeros(batch_size, max_seq_size, device='cuda')\n",
        "        for idx in range(batch_size):\n",
        "            length = lengths[idx].item()\n",
        "            loss_mask[idx, :length] = 1\n",
        "\n",
        "        for idx in range(max_seq_size - 1):\n",
        "            mask = loss_mask[:, idx].view(-1, 1)\n",
        "            output = decoder_output[:, idx, :]\n",
        "            output = output * mask\n",
        "            # print(targets[:, idx + 1])\n",
        "            # print(torch.topk(output, 1).indices)\n",
        "            \n",
        "            loss += criterion(output, targets[:, idx + 1])\n",
        "\n",
        "        # loss = loss / batch_size\n",
        "        loss.backward()\n",
        "        d_optim.step()\n",
        "        e_optim.step()\n",
        "\n",
        "        loss_profile.append(loss.item())\n",
        "\n",
        "        if step % log_step == 0:\n",
        "            # compute the evaluation loss\n",
        "            # eval_loss = evaluate(val_loader, encoder, decoder, criterion)\n",
        "            print(f\"Training Loss: {loss.item()}\")\n",
        "        # break\n",
        "    return loss_profile"
      ],
      "execution_count": 0,
      "outputs": []
    },
    {
      "cell_type": "code",
      "metadata": {
        "id": "mIN1xkYuvTW4",
        "colab_type": "code",
        "colab": {}
      },
      "source": [
        "loss_profile = []\n",
        "dec_lr_scheduler = torch.optim.lr_scheduler.StepLR(decoder_optim, step_size=10, gamma=0.1)\n",
        "enc_lr_scheduler = torch.optim.lr_scheduler.StepLR(encoder_optim, step_size=10, gamma=0.1)"
      ],
      "execution_count": 0,
      "outputs": []
    },
    {
      "cell_type": "code",
      "metadata": {
        "id": "oz3Ii3jOU3x1",
        "colab_type": "code",
        "outputId": "e0c6824e-9b9b-435f-ee75-e08ca81e398f",
        "colab": {
          "base_uri": "https://localhost:8080/",
          "height": 697
        }
      },
      "source": [
        "encoder.train()\n",
        "decoder.train()\n",
        "for epoch_idx in range(num_epochs):\n",
        "    print(f'Epoch: {epoch_idx + 1}')\n",
        "    epoch_loss = train_one_epoch(train_loader, encoder, decoder, encoder_optim, decoder_optim, loss, log_step=log_step)\n",
        "    loss_profile.extend(epoch_loss)\n",
        "    dec_lr_scheduler.step()\n",
        "    enc_lr_scheduler.step()\n",
        "    # break"
      ],
      "execution_count": 0,
      "outputs": [
        {
          "output_type": "stream",
          "text": [
            "Epoch: 1\n",
            "Training Loss: 0.8079756498336792\n",
            "Training Loss: 0.8368808031082153\n",
            "Training Loss: 0.948035478591919\n",
            "Epoch: 2\n",
            "Training Loss: 0.686955451965332\n",
            "Training Loss: 0.3771783113479614\n",
            "Training Loss: 0.6938852071762085\n",
            "Epoch: 3\n",
            "Training Loss: 0.7204176783561707\n",
            "Training Loss: 0.7373232245445251\n",
            "Training Loss: 0.683801531791687\n",
            "Epoch: 4\n",
            "Training Loss: 1.0467970371246338\n",
            "Training Loss: 0.5042499303817749\n",
            "Training Loss: 0.8444007635116577\n",
            "Epoch: 5\n",
            "Training Loss: 0.8457851409912109\n",
            "Training Loss: 0.8620447516441345\n",
            "Training Loss: 0.5617203116416931\n",
            "Epoch: 6\n",
            "Training Loss: 0.8375937938690186\n",
            "Training Loss: 0.6741155385971069\n",
            "Training Loss: 0.5391330718994141\n",
            "Epoch: 7\n",
            "Training Loss: 0.8007209300994873\n",
            "Training Loss: 0.7556846141815186\n",
            "Training Loss: 0.833034873008728\n",
            "Epoch: 8\n",
            "Training Loss: 0.7008130550384521\n",
            "Training Loss: 0.7769766449928284\n",
            "Training Loss: 0.8441731929779053\n",
            "Epoch: 9\n",
            "Training Loss: 0.6759217977523804\n",
            "Training Loss: 0.5107815265655518\n",
            "Training Loss: 0.31017982959747314\n",
            "Epoch: 10\n",
            "Training Loss: 0.5475825071334839\n",
            "Training Loss: 0.898414671421051\n",
            "Training Loss: 0.5368081331253052\n"
          ],
          "name": "stdout"
        }
      ]
    },
    {
      "cell_type": "code",
      "metadata": {
        "id": "fb2Cr4g-ZzTz",
        "colab_type": "code",
        "outputId": "3545c283-06a8-475c-ded1-308ec9fc56f8",
        "colab": {
          "base_uri": "https://localhost:8080/",
          "height": 286
        }
      },
      "source": [
        "plt.plot(loss_profile)"
      ],
      "execution_count": 0,
      "outputs": [
        {
          "output_type": "execute_result",
          "data": {
            "text/plain": [
              "[<matplotlib.lines.Line2D at 0x7f8d08e9d470>]"
            ]
          },
          "metadata": {
            "tags": []
          },
          "execution_count": 58
        },
        {
          "output_type": "display_data",
          "data": {
            "image/png": "[encoded data removed]",
            "text/plain": [
              "<Figure size 432x288 with 1 Axes>"
            ]
          },
          "metadata": {
            "tags": []
          }
        }
      ]
    },
    {
      "cell_type": "code",
      "metadata": {
        "id": "KIwOmObp3O-c",
        "colab_type": "code",
        "outputId": "30cfc520-7b4c-4902-e53e-df0b260c5daa",
        "colab": {
          "base_uri": "https://localhost:8080/",
          "height": 320
        }
      },
      "source": [
        "# print(decoder)\n",
        "encoder.eval()\n",
        "decoder.eval()\n",
        "\n",
        "image, target, _ = val_dataset[10]\n",
        "plt.imshow(image.permute(1,2,0))\n",
        "print(target)\n",
        "\n",
        "# get the predictions\n",
        "values, indices = preds(image, encoder, decoder, 0, 1)\n",
        "print([value.item() for value in values])\n",
        "print(indices)"
      ],
      "execution_count": 0,
      "outputs": [
        {
          "output_type": "stream",
          "text": [
            "tensor([ 0, 24, 67,  1,  2,  2,  2,  2,  2,  2,  2,  2,  2,  2,  2,  2])\n",
            "[0.9958164095878601, 0.9466075897216797, 0.9999885559082031]\n",
            "[24, 67, 1]\n"
          ],
          "name": "stdout"
        },
        {
          "output_type": "display_data",
          "data": {
            "image/png": "[encoded data removed]",
            "text/plain": [
              "<Figure size 432x288 with 1 Axes>"
            ]
          },
          "metadata": {
            "tags": []
          }
        }
      ]
    },
    {
      "cell_type": "code",
      "metadata": {
        "id": "Min3Mtm5AXZ6",
        "colab_type": "code",
        "colab": {}
      },
      "source": [
        "# Save the model state\n",
        "date = '16_Oct19'\n",
        "# Path of the output file: `model_<architecture>_<dropout_rate>_<output_size>.pt`\n",
        "encoder_path = f'/content/drive/My Drive/Project STation/TD/{date}/encoder_inceptionv3_{enc_output_size}.pt'\n",
        "decoder_path = f'/content/drive/My Drive/Project STation/TD/{date}/decoder_unigru_drop{dropout}_{num_layers}.pt'\n",
        "torch.save(encoder.state_dict(), encoder_path)\n",
        "torch.save(decoder.state_dict(), decoder_path)"
      ],
      "execution_count": 0,
      "outputs": []
    },
    {
      "cell_type": "code",
      "metadata": {
        "id": "KcyTvS4RwRWf",
        "colab_type": "code",
        "outputId": "239049cc-f8b2-465f-ed75-810cd75d886b",
        "colab": {
          "base_uri": "https://localhost:8080/",
          "height": 1000
        }
      },
      "source": [
        "inception = models.inception_v3(pretrained=True)\n",
        "[name for name, _ in inception.named_parameters()]"
      ],
      "execution_count": 0,
      "outputs": [
        {
          "output_type": "execute_result",
          "data": {
            "text/plain": [
              "['Conv2d_1a_3x3.conv.weight',\n",
              " 'Conv2d_1a_3x3.bn.weight',\n",
              " 'Conv2d_1a_3x3.bn.bias',\n",
              " 'Conv2d_2a_3x3.conv.weight',\n",
              " 'Conv2d_2a_3x3.bn.weight',\n",
              " 'Conv2d_2a_3x3.bn.bias',\n",
              " 'Conv2d_2b_3x3.conv.weight',\n",
              " 'Conv2d_2b_3x3.bn.weight',\n",
              " 'Conv2d_2b_3x3.bn.bias',\n",
              " 'Conv2d_3b_1x1.conv.weight',\n",
              " 'Conv2d_3b_1x1.bn.weight',\n",
              " 'Conv2d_3b_1x1.bn.bias',\n",
              " 'Conv2d_4a_3x3.conv.weight',\n",
              " 'Conv2d_4a_3x3.bn.weight',\n",
              " 'Conv2d_4a_3x3.bn.bias',\n",
              " 'Mixed_5b.branch1x1.conv.weight',\n",
              " 'Mixed_5b.branch1x1.bn.weight',\n",
              " 'Mixed_5b.branch1x1.bn.bias',\n",
              " 'Mixed_5b.branch5x5_1.conv.weight',\n",
              " 'Mixed_5b.branch5x5_1.bn.weight',\n",
              " 'Mixed_5b.branch5x5_1.bn.bias',\n",
              " 'Mixed_5b.branch5x5_2.conv.weight',\n",
              " 'Mixed_5b.branch5x5_2.bn.weight',\n",
              " 'Mixed_5b.branch5x5_2.bn.bias',\n",
              " 'Mixed_5b.branch3x3dbl_1.conv.weight',\n",
              " 'Mixed_5b.branch3x3dbl_1.bn.weight',\n",
              " 'Mixed_5b.branch3x3dbl_1.bn.bias',\n",
              " 'Mixed_5b.branch3x3dbl_2.conv.weight',\n",
              " 'Mixed_5b.branch3x3dbl_2.bn.weight',\n",
              " 'Mixed_5b.branch3x3dbl_2.bn.bias',\n",
              " 'Mixed_5b.branch3x3dbl_3.conv.weight',\n",
              " 'Mixed_5b.branch3x3dbl_3.bn.weight',\n",
              " 'Mixed_5b.branch3x3dbl_3.bn.bias',\n",
              " 'Mixed_5b.branch_pool.conv.weight',\n",
              " 'Mixed_5b.branch_pool.bn.weight',\n",
              " 'Mixed_5b.branch_pool.bn.bias',\n",
              " 'Mixed_5c.branch1x1.conv.weight',\n",
              " 'Mixed_5c.branch1x1.bn.weight',\n",
              " 'Mixed_5c.branch1x1.bn.bias',\n",
              " 'Mixed_5c.branch5x5_1.conv.weight',\n",
              " 'Mixed_5c.branch5x5_1.bn.weight',\n",
              " 'Mixed_5c.branch5x5_1.bn.bias',\n",
              " 'Mixed_5c.branch5x5_2.conv.weight',\n",
              " 'Mixed_5c.branch5x5_2.bn.weight',\n",
              " 'Mixed_5c.branch5x5_2.bn.bias',\n",
              " 'Mixed_5c.branch3x3dbl_1.conv.weight',\n",
              " 'Mixed_5c.branch3x3dbl_1.bn.weight',\n",
              " 'Mixed_5c.branch3x3dbl_1.bn.bias',\n",
              " 'Mixed_5c.branch3x3dbl_2.conv.weight',\n",
              " 'Mixed_5c.branch3x3dbl_2.bn.weight',\n",
              " 'Mixed_5c.branch3x3dbl_2.bn.bias',\n",
              " 'Mixed_5c.branch3x3dbl_3.conv.weight',\n",
              " 'Mixed_5c.branch3x3dbl_3.bn.weight',\n",
              " 'Mixed_5c.branch3x3dbl_3.bn.bias',\n",
              " 'Mixed_5c.branch_pool.conv.weight',\n",
              " 'Mixed_5c.branch_pool.bn.weight',\n",
              " 'Mixed_5c.branch_pool.bn.bias',\n",
              " 'Mixed_5d.branch1x1.conv.weight',\n",
              " 'Mixed_5d.branch1x1.bn.weight',\n",
              " 'Mixed_5d.branch1x1.bn.bias',\n",
              " 'Mixed_5d.branch5x5_1.conv.weight',\n",
              " 'Mixed_5d.branch5x5_1.bn.weight',\n",
              " 'Mixed_5d.branch5x5_1.bn.bias',\n",
              " 'Mixed_5d.branch5x5_2.conv.weight',\n",
              " 'Mixed_5d.branch5x5_2.bn.weight',\n",
              " 'Mixed_5d.branch5x5_2.bn.bias',\n",
              " 'Mixed_5d.branch3x3dbl_1.conv.weight',\n",
              " 'Mixed_5d.branch3x3dbl_1.bn.weight',\n",
              " 'Mixed_5d.branch3x3dbl_1.bn.bias',\n",
              " 'Mixed_5d.branch3x3dbl_2.conv.weight',\n",
              " 'Mixed_5d.branch3x3dbl_2.bn.weight',\n",
              " 'Mixed_5d.branch3x3dbl_2.bn.bias',\n",
              " 'Mixed_5d.branch3x3dbl_3.conv.weight',\n",
              " 'Mixed_5d.branch3x3dbl_3.bn.weight',\n",
              " 'Mixed_5d.branch3x3dbl_3.bn.bias',\n",
              " 'Mixed_5d.branch_pool.conv.weight',\n",
              " 'Mixed_5d.branch_pool.bn.weight',\n",
              " 'Mixed_5d.branch_pool.bn.bias',\n",
              " 'Mixed_6a.branch3x3.conv.weight',\n",
              " 'Mixed_6a.branch3x3.bn.weight',\n",
              " 'Mixed_6a.branch3x3.bn.bias',\n",
              " 'Mixed_6a.branch3x3dbl_1.conv.weight',\n",
              " 'Mixed_6a.branch3x3dbl_1.bn.weight',\n",
              " 'Mixed_6a.branch3x3dbl_1.bn.bias',\n",
              " 'Mixed_6a.branch3x3dbl_2.conv.weight',\n",
              " 'Mixed_6a.branch3x3dbl_2.bn.weight',\n",
              " 'Mixed_6a.branch3x3dbl_2.bn.bias',\n",
              " 'Mixed_6a.branch3x3dbl_3.conv.weight',\n",
              " 'Mixed_6a.branch3x3dbl_3.bn.weight',\n",
              " 'Mixed_6a.branch3x3dbl_3.bn.bias',\n",
              " 'Mixed_6b.branch1x1.conv.weight',\n",
              " 'Mixed_6b.branch1x1.bn.weight',\n",
              " 'Mixed_6b.branch1x1.bn.bias',\n",
              " 'Mixed_6b.branch7x7_1.conv.weight',\n",
              " 'Mixed_6b.branch7x7_1.bn.weight',\n",
              " 'Mixed_6b.branch7x7_1.bn.bias',\n",
              " 'Mixed_6b.branch7x7_2.conv.weight',\n",
              " 'Mixed_6b.branch7x7_2.bn.weight',\n",
              " 'Mixed_6b.branch7x7_2.bn.bias',\n",
              " 'Mixed_6b.branch7x7_3.conv.weight',\n",
              " 'Mixed_6b.branch7x7_3.bn.weight',\n",
              " 'Mixed_6b.branch7x7_3.bn.bias',\n",
              " 'Mixed_6b.branch7x7dbl_1.conv.weight',\n",
              " 'Mixed_6b.branch7x7dbl_1.bn.weight',\n",
              " 'Mixed_6b.branch7x7dbl_1.bn.bias',\n",
              " 'Mixed_6b.branch7x7dbl_2.conv.weight',\n",
              " 'Mixed_6b.branch7x7dbl_2.bn.weight',\n",
              " 'Mixed_6b.branch7x7dbl_2.bn.bias',\n",
              " 'Mixed_6b.branch7x7dbl_3.conv.weight',\n",
              " 'Mixed_6b.branch7x7dbl_3.bn.weight',\n",
              " 'Mixed_6b.branch7x7dbl_3.bn.bias',\n",
              " 'Mixed_6b.branch7x7dbl_4.conv.weight',\n",
              " 'Mixed_6b.branch7x7dbl_4.bn.weight',\n",
              " 'Mixed_6b.branch7x7dbl_4.bn.bias',\n",
              " 'Mixed_6b.branch7x7dbl_5.conv.weight',\n",
              " 'Mixed_6b.branch7x7dbl_5.bn.weight',\n",
              " 'Mixed_6b.branch7x7dbl_5.bn.bias',\n",
              " 'Mixed_6b.branch_pool.conv.weight',\n",
              " 'Mixed_6b.branch_pool.bn.weight',\n",
              " 'Mixed_6b.branch_pool.bn.bias',\n",
              " 'Mixed_6c.branch1x1.conv.weight',\n",
              " 'Mixed_6c.branch1x1.bn.weight',\n",
              " 'Mixed_6c.branch1x1.bn.bias',\n",
              " 'Mixed_6c.branch7x7_1.conv.weight',\n",
              " 'Mixed_6c.branch7x7_1.bn.weight',\n",
              " 'Mixed_6c.branch7x7_1.bn.bias',\n",
              " 'Mixed_6c.branch7x7_2.conv.weight',\n",
              " 'Mixed_6c.branch7x7_2.bn.weight',\n",
              " 'Mixed_6c.branch7x7_2.bn.bias',\n",
              " 'Mixed_6c.branch7x7_3.conv.weight',\n",
              " 'Mixed_6c.branch7x7_3.bn.weight',\n",
              " 'Mixed_6c.branch7x7_3.bn.bias',\n",
              " 'Mixed_6c.branch7x7dbl_1.conv.weight',\n",
              " 'Mixed_6c.branch7x7dbl_1.bn.weight',\n",
              " 'Mixed_6c.branch7x7dbl_1.bn.bias',\n",
              " 'Mixed_6c.branch7x7dbl_2.conv.weight',\n",
              " 'Mixed_6c.branch7x7dbl_2.bn.weight',\n",
              " 'Mixed_6c.branch7x7dbl_2.bn.bias',\n",
              " 'Mixed_6c.branch7x7dbl_3.conv.weight',\n",
              " 'Mixed_6c.branch7x7dbl_3.bn.weight',\n",
              " 'Mixed_6c.branch7x7dbl_3.bn.bias',\n",
              " 'Mixed_6c.branch7x7dbl_4.conv.weight',\n",
              " 'Mixed_6c.branch7x7dbl_4.bn.weight',\n",
              " 'Mixed_6c.branch7x7dbl_4.bn.bias',\n",
              " 'Mixed_6c.branch7x7dbl_5.conv.weight',\n",
              " 'Mixed_6c.branch7x7dbl_5.bn.weight',\n",
              " 'Mixed_6c.branch7x7dbl_5.bn.bias',\n",
              " 'Mixed_6c.branch_pool.conv.weight',\n",
              " 'Mixed_6c.branch_pool.bn.weight',\n",
              " 'Mixed_6c.branch_pool.bn.bias',\n",
              " 'Mixed_6d.branch1x1.conv.weight',\n",
              " 'Mixed_6d.branch1x1.bn.weight',\n",
              " 'Mixed_6d.branch1x1.bn.bias',\n",
              " 'Mixed_6d.branch7x7_1.conv.weight',\n",
              " 'Mixed_6d.branch7x7_1.bn.weight',\n",
              " 'Mixed_6d.branch7x7_1.bn.bias',\n",
              " 'Mixed_6d.branch7x7_2.conv.weight',\n",
              " 'Mixed_6d.branch7x7_2.bn.weight',\n",
              " 'Mixed_6d.branch7x7_2.bn.bias',\n",
              " 'Mixed_6d.branch7x7_3.conv.weight',\n",
              " 'Mixed_6d.branch7x7_3.bn.weight',\n",
              " 'Mixed_6d.branch7x7_3.bn.bias',\n",
              " 'Mixed_6d.branch7x7dbl_1.conv.weight',\n",
              " 'Mixed_6d.branch7x7dbl_1.bn.weight',\n",
              " 'Mixed_6d.branch7x7dbl_1.bn.bias',\n",
              " 'Mixed_6d.branch7x7dbl_2.conv.weight',\n",
              " 'Mixed_6d.branch7x7dbl_2.bn.weight',\n",
              " 'Mixed_6d.branch7x7dbl_2.bn.bias',\n",
              " 'Mixed_6d.branch7x7dbl_3.conv.weight',\n",
              " 'Mixed_6d.branch7x7dbl_3.bn.weight',\n",
              " 'Mixed_6d.branch7x7dbl_3.bn.bias',\n",
              " 'Mixed_6d.branch7x7dbl_4.conv.weight',\n",
              " 'Mixed_6d.branch7x7dbl_4.bn.weight',\n",
              " 'Mixed_6d.branch7x7dbl_4.bn.bias',\n",
              " 'Mixed_6d.branch7x7dbl_5.conv.weight',\n",
              " 'Mixed_6d.branch7x7dbl_5.bn.weight',\n",
              " 'Mixed_6d.branch7x7dbl_5.bn.bias',\n",
              " 'Mixed_6d.branch_pool.conv.weight',\n",
              " 'Mixed_6d.branch_pool.bn.weight',\n",
              " 'Mixed_6d.branch_pool.bn.bias',\n",
              " 'Mixed_6e.branch1x1.conv.weight',\n",
              " 'Mixed_6e.branch1x1.bn.weight',\n",
              " 'Mixed_6e.branch1x1.bn.bias',\n",
              " 'Mixed_6e.branch7x7_1.conv.weight',\n",
              " 'Mixed_6e.branch7x7_1.bn.weight',\n",
              " 'Mixed_6e.branch7x7_1.bn.bias',\n",
              " 'Mixed_6e.branch7x7_2.conv.weight',\n",
              " 'Mixed_6e.branch7x7_2.bn.weight',\n",
              " 'Mixed_6e.branch7x7_2.bn.bias',\n",
              " 'Mixed_6e.branch7x7_3.conv.weight',\n",
              " 'Mixed_6e.branch7x7_3.bn.weight',\n",
              " 'Mixed_6e.branch7x7_3.bn.bias',\n",
              " 'Mixed_6e.branch7x7dbl_1.conv.weight',\n",
              " 'Mixed_6e.branch7x7dbl_1.bn.weight',\n",
              " 'Mixed_6e.branch7x7dbl_1.bn.bias',\n",
              " 'Mixed_6e.branch7x7dbl_2.conv.weight',\n",
              " 'Mixed_6e.branch7x7dbl_2.bn.weight',\n",
              " 'Mixed_6e.branch7x7dbl_2.bn.bias',\n",
              " 'Mixed_6e.branch7x7dbl_3.conv.weight',\n",
              " 'Mixed_6e.branch7x7dbl_3.bn.weight',\n",
              " 'Mixed_6e.branch7x7dbl_3.bn.bias',\n",
              " 'Mixed_6e.branch7x7dbl_4.conv.weight',\n",
              " 'Mixed_6e.branch7x7dbl_4.bn.weight',\n",
              " 'Mixed_6e.branch7x7dbl_4.bn.bias',\n",
              " 'Mixed_6e.branch7x7dbl_5.conv.weight',\n",
              " 'Mixed_6e.branch7x7dbl_5.bn.weight',\n",
              " 'Mixed_6e.branch7x7dbl_5.bn.bias',\n",
              " 'Mixed_6e.branch_pool.conv.weight',\n",
              " 'Mixed_6e.branch_pool.bn.weight',\n",
              " 'Mixed_6e.branch_pool.bn.bias',\n",
              " 'AuxLogits.conv0.conv.weight',\n",
              " 'AuxLogits.conv0.bn.weight',\n",
              " 'AuxLogits.conv0.bn.bias',\n",
              " 'AuxLogits.conv1.conv.weight',\n",
              " 'AuxLogits.conv1.bn.weight',\n",
              " 'AuxLogits.conv1.bn.bias',\n",
              " 'AuxLogits.fc.weight',\n",
              " 'AuxLogits.fc.bias',\n",
              " 'Mixed_7a.branch3x3_1.conv.weight',\n",
              " 'Mixed_7a.branch3x3_1.bn.weight',\n",
              " 'Mixed_7a.branch3x3_1.bn.bias',\n",
              " 'Mixed_7a.branch3x3_2.conv.weight',\n",
              " 'Mixed_7a.branch3x3_2.bn.weight',\n",
              " 'Mixed_7a.branch3x3_2.bn.bias',\n",
              " 'Mixed_7a.branch7x7x3_1.conv.weight',\n",
              " 'Mixed_7a.branch7x7x3_1.bn.weight',\n",
              " 'Mixed_7a.branch7x7x3_1.bn.bias',\n",
              " 'Mixed_7a.branch7x7x3_2.conv.weight',\n",
              " 'Mixed_7a.branch7x7x3_2.bn.weight',\n",
              " 'Mixed_7a.branch7x7x3_2.bn.bias',\n",
              " 'Mixed_7a.branch7x7x3_3.conv.weight',\n",
              " 'Mixed_7a.branch7x7x3_3.bn.weight',\n",
              " 'Mixed_7a.branch7x7x3_3.bn.bias',\n",
              " 'Mixed_7a.branch7x7x3_4.conv.weight',\n",
              " 'Mixed_7a.branch7x7x3_4.bn.weight',\n",
              " 'Mixed_7a.branch7x7x3_4.bn.bias',\n",
              " 'Mixed_7b.branch1x1.conv.weight',\n",
              " 'Mixed_7b.branch1x1.bn.weight',\n",
              " 'Mixed_7b.branch1x1.bn.bias',\n",
              " 'Mixed_7b.branch3x3_1.conv.weight',\n",
              " 'Mixed_7b.branch3x3_1.bn.weight',\n",
              " 'Mixed_7b.branch3x3_1.bn.bias',\n",
              " 'Mixed_7b.branch3x3_2a.conv.weight',\n",
              " 'Mixed_7b.branch3x3_2a.bn.weight',\n",
              " 'Mixed_7b.branch3x3_2a.bn.bias',\n",
              " 'Mixed_7b.branch3x3_2b.conv.weight',\n",
              " 'Mixed_7b.branch3x3_2b.bn.weight',\n",
              " 'Mixed_7b.branch3x3_2b.bn.bias',\n",
              " 'Mixed_7b.branch3x3dbl_1.conv.weight',\n",
              " 'Mixed_7b.branch3x3dbl_1.bn.weight',\n",
              " 'Mixed_7b.branch3x3dbl_1.bn.bias',\n",
              " 'Mixed_7b.branch3x3dbl_2.conv.weight',\n",
              " 'Mixed_7b.branch3x3dbl_2.bn.weight',\n",
              " 'Mixed_7b.branch3x3dbl_2.bn.bias',\n",
              " 'Mixed_7b.branch3x3dbl_3a.conv.weight',\n",
              " 'Mixed_7b.branch3x3dbl_3a.bn.weight',\n",
              " 'Mixed_7b.branch3x3dbl_3a.bn.bias',\n",
              " 'Mixed_7b.branch3x3dbl_3b.conv.weight',\n",
              " 'Mixed_7b.branch3x3dbl_3b.bn.weight',\n",
              " 'Mixed_7b.branch3x3dbl_3b.bn.bias',\n",
              " 'Mixed_7b.branch_pool.conv.weight',\n",
              " 'Mixed_7b.branch_pool.bn.weight',\n",
              " 'Mixed_7b.branch_pool.bn.bias',\n",
              " 'Mixed_7c.branch1x1.conv.weight',\n",
              " 'Mixed_7c.branch1x1.bn.weight',\n",
              " 'Mixed_7c.branch1x1.bn.bias',\n",
              " 'Mixed_7c.branch3x3_1.conv.weight',\n",
              " 'Mixed_7c.branch3x3_1.bn.weight',\n",
              " 'Mixed_7c.branch3x3_1.bn.bias',\n",
              " 'Mixed_7c.branch3x3_2a.conv.weight',\n",
              " 'Mixed_7c.branch3x3_2a.bn.weight',\n",
              " 'Mixed_7c.branch3x3_2a.bn.bias',\n",
              " 'Mixed_7c.branch3x3_2b.conv.weight',\n",
              " 'Mixed_7c.branch3x3_2b.bn.weight',\n",
              " 'Mixed_7c.branch3x3_2b.bn.bias',\n",
              " 'Mixed_7c.branch3x3dbl_1.conv.weight',\n",
              " 'Mixed_7c.branch3x3dbl_1.bn.weight',\n",
              " 'Mixed_7c.branch3x3dbl_1.bn.bias',\n",
              " 'Mixed_7c.branch3x3dbl_2.conv.weight',\n",
              " 'Mixed_7c.branch3x3dbl_2.bn.weight',\n",
              " 'Mixed_7c.branch3x3dbl_2.bn.bias',\n",
              " 'Mixed_7c.branch3x3dbl_3a.conv.weight',\n",
              " 'Mixed_7c.branch3x3dbl_3a.bn.weight',\n",
              " 'Mixed_7c.branch3x3dbl_3a.bn.bias',\n",
              " 'Mixed_7c.branch3x3dbl_3b.conv.weight',\n",
              " 'Mixed_7c.branch3x3dbl_3b.bn.weight',\n",
              " 'Mixed_7c.branch3x3dbl_3b.bn.bias',\n",
              " 'Mixed_7c.branch_pool.conv.weight',\n",
              " 'Mixed_7c.branch_pool.bn.weight',\n",
              " 'Mixed_7c.branch_pool.bn.bias',\n",
              " 'fc.weight',\n",
              " 'fc.bias']"
            ]
          },
          "metadata": {
            "tags": []
          },
          "execution_count": 29
        }
      ]
    }
  ]
}